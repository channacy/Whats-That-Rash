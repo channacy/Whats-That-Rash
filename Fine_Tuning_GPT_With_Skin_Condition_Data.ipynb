{
  "nbformat": 4,
  "nbformat_minor": 0,
  "metadata": {
    "colab": {
      "provenance": [],
      "machine_shape": "hm",
      "gpuType": "A100",
      "authorship_tag": "ABX9TyOcm7Bjrx/6khe4gWHBWI1v",
      "include_colab_link": true
    },
    "kernelspec": {
      "name": "python3",
      "display_name": "Python 3"
    },
    "language_info": {
      "name": "python"
    },
    "accelerator": "GPU"
  },
  "cells": [
    {
      "cell_type": "markdown",
      "metadata": {
        "id": "view-in-github",
        "colab_type": "text"
      },
      "source": [
        "<a href=\"https://colab.research.google.com/github/channacy/Whats-That-Rash/blob/main/Fine_Tuning_GPT_With_Skin_Condition_Data.ipynb\" target=\"_parent\"><img src=\"https://colab.research.google.com/assets/colab-badge.svg\" alt=\"Open In Colab\"/></a>"
      ]
    },
    {
      "cell_type": "markdown",
      "source": [
        "Resources\n",
        "\n",
        "https://platform.openai.com/docs/guides/vision-fine-tuning\n",
        "\n",
        "https://www.datacamp.com/tutorial/fine-tuning-openais-gpt-4-step-by-step-guide\n",
        "\n",
        "Dataset:\n",
        "\n",
        "https://www.kaggle.com/datasets/riyaelizashaju/skin-disease-classification-image-dataset"
      ],
      "metadata": {
        "id": "7wcSx_ZHWSeS"
      }
    },
    {
      "cell_type": "code",
      "execution_count": 26,
      "metadata": {
        "id": "No-Hj05mWISf"
      },
      "outputs": [],
      "source": [
        "from google.colab import userdata, drive\n",
        "from openai import OpenAI"
      ]
    },
    {
      "cell_type": "code",
      "source": [
        "drive.mount('/content/drive')"
      ],
      "metadata": {
        "colab": {
          "base_uri": "https://localhost:8080/"
        },
        "id": "vlaznK_Oikk-",
        "outputId": "27e1deff-1a31-4bb5-f7a2-adf85ea527f8"
      },
      "execution_count": null,
      "outputs": [
        {
          "output_type": "stream",
          "name": "stdout",
          "text": [
            "Drive already mounted at /content/drive; to attempt to forcibly remount, call drive.mount(\"/content/drive\", force_remount=True).\n"
          ]
        }
      ]
    },
    {
      "cell_type": "code",
      "source": [
        "import os\n",
        "import base64\n",
        "\n",
        "def encode_image(image):\n",
        "    return base64.b64encode(image.read()).decode(\"utf-8\")\n",
        "\n",
        "IMAGE_PATH = \"/content/drive/MyDrive/Skin_Images/train\"\n",
        "data_for_finetuning = []\n",
        "\n",
        "\n",
        "for root, dirs, files in os.walk(IMAGE_PATH):\n",
        "    for dir_name in dirs:\n",
        "        skin_condition = dir_name\n",
        "        print(f\"Processing directory: {skin_condition}\")\n",
        "        dir_path = os.path.join(root, dir_name)\n",
        "        for file_name in os.listdir(dir_path):\n",
        "            file_path = os.path.join(dir_path, file_name)\n",
        "            if os.path.isfile(file_path):\n",
        "                try:\n",
        "                    with open(file_path, \"rb\") as image_file:\n",
        "                        encoded_image = encode_image(image_file)\n",
        "                        # Construct the object\n",
        "                        data_object = {\n",
        "                          \"messages\": [\n",
        "                            {\n",
        "                              \"role\": \"system\",\n",
        "                              \"content\": \"You are an assistant that identifies skin conditions and diseases.\"\n",
        "                            },\n",
        "                            {\n",
        "                              \"role\": \"user\",\n",
        "                              \"content\": \"What is this skin condition?\"\n",
        "                            },\n",
        "                            {\n",
        "                              \"role\": \"user\",\n",
        "                              \"content\": [\n",
        "                                {\n",
        "                                  \"type\": \"image_url\",\n",
        "                                  \"image_url\": {\n",
        "                                    \"url\": f\"data:image/jpeg;base64,{encoded_image}\"\n",
        "                                  }\n",
        "                                }\n",
        "                              ]\n",
        "                            },\n",
        "                            {\n",
        "                              \"role\": \"assistant\",\n",
        "                              \"content\": skin_condition\n",
        "                            }\n",
        "                          ]\n",
        "                        }\n",
        "                        data_for_finetuning.append(data_object)\n",
        "                except Exception as e:\n",
        "                    print(f\"Error processing {file_path}: {e}\")\n",
        "\n",
        "# Now 'data_for_finetuning' contains the list of objects for fine-tuning"
      ],
      "metadata": {
        "id": "UO7bS1lGkEBf",
        "colab": {
          "base_uri": "https://localhost:8080/"
        },
        "outputId": "5854e441-a57e-4786-c350-33f9a98200b6"
      },
      "execution_count": null,
      "outputs": [
        {
          "output_type": "stream",
          "name": "stdout",
          "text": [
            "Processing directory: Dermatofibroma\n",
            "Processing directory: Atopic Dermatitis\n",
            "Processing directory: Vascular lesion\n",
            "Processing directory: Squamous cell carcinoma\n",
            "Processing directory: Actinic keratosis\n",
            "Processing directory: Benign keratosis\n",
            "Processing directory: Tinea Ringworm Candidiasis\n",
            "Processing directory: Melanoma\n",
            "Processing directory: Melanocytic nevus\n"
          ]
        }
      ]
    },
    {
      "cell_type": "code",
      "source": [
        "# Specify the index of the example to remove (112th example means index 111)\n",
        "index_to_remove = 111\n",
        "\n",
        "# Remove the example at the specified index\n",
        "if index_to_remove < len(data_for_finetuning):\n",
        "    removed_item = data_for_finetuning.pop(index_to_remove)\n",
        "    print(f\"Removed example at index {index_to_remove} (112th example) due to potential usage policy violation.\")\n",
        "else:\n",
        "    print(f\"Index {index_to_remove} is out of bounds. No item removed.\")\n"
      ],
      "metadata": {
        "colab": {
          "base_uri": "https://localhost:8080/"
        },
        "id": "3UY2GLpADnG5",
        "outputId": "7005bcea-f0c3-4e6e-ba01-9943b6287082"
      },
      "execution_count": null,
      "outputs": [
        {
          "output_type": "stream",
          "name": "stdout",
          "text": [
            "Removed example at index 111 (112th example) due to potential usage policy violation.\n"
          ]
        }
      ]
    },
    {
      "cell_type": "code",
      "source": [
        "len(data_for_finetuning)"
      ],
      "metadata": {
        "colab": {
          "base_uri": "https://localhost:8080/"
        },
        "id": "6s3GTh5rplqa",
        "outputId": "33d965ce-b755-4545-a53f-1c847040fdbe"
      },
      "execution_count": null,
      "outputs": [
        {
          "output_type": "execute_result",
          "data": {
            "text/plain": [
              "696"
            ]
          },
          "metadata": {},
          "execution_count": 15
        }
      ]
    },
    {
      "cell_type": "code",
      "source": [
        "import json\n",
        "\n",
        "# Assuming 'data_for_finetuning' is already populated from the previous step\n",
        "\n",
        "output_filename = \"train.jsonl\"\n",
        "\n",
        "with open(output_filename, \"w\") as outfile:\n",
        "  count = 0\n",
        "  for entry in data_for_finetuning:\n",
        "      json.dump(entry, outfile)\n",
        "      outfile.write('\\n')\n",
        "      count += 1\n",
        "      if count >= 1000:\n",
        "        break\n",
        "\n",
        "print(f\"Successfully created {output_filename}\")\n"
      ],
      "metadata": {
        "colab": {
          "base_uri": "https://localhost:8080/"
        },
        "id": "s2eslRNpl6D4",
        "outputId": "7cff4fa2-27fb-4c90-fd5f-d4303fe08626"
      },
      "execution_count": null,
      "outputs": [
        {
          "output_type": "stream",
          "name": "stdout",
          "text": [
            "Successfully created train.jsonl\n"
          ]
        }
      ]
    },
    {
      "cell_type": "code",
      "source": [
        "client = OpenAI(api_key=userdata.get('OPENAI_API_KEY'))"
      ],
      "metadata": {
        "id": "GDc2XLMlX0LR"
      },
      "execution_count": null,
      "outputs": []
    },
    {
      "cell_type": "code",
      "source": [
        "client.files.create(\n",
        "  file=open(\"train.jsonl\", \"rb\"),\n",
        "  purpose=\"fine-tune\"\n",
        ")"
      ],
      "metadata": {
        "id": "-fe16GIdafcA",
        "colab": {
          "base_uri": "https://localhost:8080/"
        },
        "outputId": "955ff919-4278-4314-be6a-9b4bfeffba43"
      },
      "execution_count": null,
      "outputs": [
        {
          "output_type": "execute_result",
          "data": {
            "text/plain": [
              "FileObject(id='file-JNzXAkhYLQXBFp3WeLqhtV', bytes=190837896, created_at=1747609851, filename='train.jsonl', object='file', purpose='fine-tune', status='processed', expires_at=None, status_details=None)"
            ]
          },
          "metadata": {},
          "execution_count": 23
        }
      ]
    },
    {
      "cell_type": "code",
      "source": [
        "len(data_for_finetuning)"
      ],
      "metadata": {
        "colab": {
          "base_uri": "https://localhost:8080/"
        },
        "id": "DWnofFLyHPSb",
        "outputId": "740df15d-25f1-4f74-c223-0a57948d3733"
      },
      "execution_count": null,
      "outputs": [
        {
          "output_type": "execute_result",
          "data": {
            "text/plain": [
              "696"
            ]
          },
          "metadata": {},
          "execution_count": 20
        }
      ]
    },
    {
      "cell_type": "code",
      "source": [
        "client.fine_tuning.jobs.create(\n",
        "  training_file=\"file-JNzXAkhYLQXBFp3WeLqhtV\",\n",
        "  model=\"gpt-4o-2024-08-06\"\n",
        ")"
      ],
      "metadata": {
        "id": "KEDvtlqmaKGh",
        "colab": {
          "base_uri": "https://localhost:8080/"
        },
        "outputId": "9e4520ea-9e9c-4479-be40-69157dd447cf"
      },
      "execution_count": null,
      "outputs": [
        {
          "output_type": "execute_result",
          "data": {
            "text/plain": [
              "FineTuningJob(id='ftjob-ny6pKLPz4kOgNINUKu5wQjpJ', created_at=1747609870, error=Error(code=None, message=None, param=None), fine_tuned_model=None, finished_at=None, hyperparameters=Hyperparameters(batch_size='auto', learning_rate_multiplier='auto', n_epochs='auto'), model='gpt-4o-2024-08-06', object='fine_tuning.job', organization_id='org-L5HXmW8uxG8wCHFJ7HrXvLMY', result_files=[], seed=1033442840, status='validating_files', trained_tokens=None, training_file='file-JNzXAkhYLQXBFp3WeLqhtV', validation_file=None, estimated_finish=None, integrations=[], metadata=None, method=Method(type='supervised', dpo=None, reinforcement=None, supervised=SupervisedMethod(hyperparameters=SupervisedHyperparameters(batch_size='auto', learning_rate_multiplier='auto', n_epochs='auto'))), user_provided_suffix=None, usage_metrics=None, shared_with_openai=False, eval_id=None)"
            ]
          },
          "metadata": {},
          "execution_count": 24
        }
      ]
    }
  ]
}